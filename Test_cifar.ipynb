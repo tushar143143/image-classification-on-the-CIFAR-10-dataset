{
 "cells": [
  {
   "cell_type": "code",
   "execution_count": 1,
   "metadata": {},
   "outputs": [],
   "source": [
    "import os\n",
    "import numpy as np\n",
    "import pickle"
   ]
  },
  {
   "cell_type": "code",
   "execution_count": null,
   "metadata": {},
   "outputs": [],
   "source": [
    "def load_cifar10_batch(file):\n",
    "    with open(file, 'rb') as f:\n",
    "        dict = pickle.load(f, encoding='bytes')\n",
    "    images = dict[b'data'].reshape((10000, 3, 32, 32)).transpose(0, 2, 3, 1)\n",
    "    labels = dict[b'labels']\n",
    "    return images, labels\n",
    "\n",
    "# Path to the CIFAR-10 batches\n",
    "path_to_batches = 'cifar-10'  # Adjust the path according to your directory structure\n",
    "\n",
    "# Loading the training data\n",
    "train_images = []\n",
    "train_labels = []\n",
    "for i in range(1, 6):  # CIFAR-10 has 5 training batches\n",
    "    file = os.path.join(path_to_batches, f'data_batch_{i}')\n",
    "    images, labels = load_cifar10_batch(file)\n",
    "    train_images.append(images)\n",
    "    train_labels.append(labels)\n",
    "\n",
    "train_images = np.concatenate(train_images, axis=0)\n",
    "train_labels = np.concatenate(train_labels, axis=0)\n",
    "\n",
    "# Loading the test data\n",
    "test_file = os.path.join(path_to_batches, 'test_batch')\n",
    "test_images, test_labels = load_cifar10_batch(test_file)\n",
    "\n",
    "# Normalize pixel values to be between 0 and 1\n",
    "train_images, test_images = train_images / 255.0, test_images / 255.0\n",
    "\n",
    "# Convert labels to one-hot encoding\n",
    "train_labels = np.eye(10)[train_labels]\n",
    "test_labels = np.eye(10)[test_labels]\n",
    "\n",
    "# Check the shapes\n",
    "print(\"Training data shape:\", train_images.shape)   # Example: (50000, 32, 32, 3)\n",
    "print(\"Training labels shape:\", train_labels.shape) # Example: (50000, 10)\n",
    "print(\"Test data shape:\", test_images.shape)        # Example: (10000, 32, 32, 3)\n",
    "print(\"Test labels shape:\", test_labels.shape)      # Example: (10000, 10)"
   ]
  },
  {
   "cell_type": "code",
   "execution_count": null,
   "metadata": {},
   "outputs": [],
   "source": [
    "from tensorflow.keras.models import Sequential\n",
    "from tensorflow.keras.layers import Conv2D, MaxPooling2D, Flatten, Dense, Dropout"
   ]
  },
  {
   "cell_type": "code",
   "execution_count": null,
   "metadata": {},
   "outputs": [],
   "source": [
    "# Building the CNN model\n",
    "model = Sequential()\n",
    "model.add(Conv2D(32, (3, 3), activation='relu', input_shape=(32, 32, 3)))\n",
    "model.add(MaxPooling2D((2, 2)))\n",
    "model.add(Conv2D(64, (3, 3), activation='relu'))\n",
    "model.add(MaxPooling2D((2, 2)))\n",
    "model.add(Conv2D(64, (3, 3), activation='relu'))\n",
    "\n",
    "# Adding fully connected layers\n",
    "model.add(Flatten())\n",
    "model.add(Dense(64, activation='relu'))\n",
    "model.add(Dense(10, activation='softmax'))  # 10 classes\n",
    "\n",
    "# Compile the model\n",
    "model.compile(optimizer='adam',\n",
    "              loss='categorical_crossentropy',\n",
    "              metrics=['accuracy'])\n",
    "\n",
    "# Summary of the model\n",
    "# model.summary()"
   ]
  },
  {
   "cell_type": "code",
   "execution_count": 5,
   "metadata": {},
   "outputs": [],
   "source": [
    "# Set training parameters\n",
    "epochs = 20  # Can be adjusted\n",
    "batch_size = 64  # Can be adjusted"
   ]
  },
  {
   "cell_type": "code",
   "execution_count": null,
   "metadata": {},
   "outputs": [],
   "source": [
    "# Train the model\n",
    "history = model.fit(train_images, train_labels, epochs=epochs, \n",
    "                    batch_size=batch_size, \n",
    "                    validation_split=0.2)  # using 20% of the training data for validation\n",
    "\n",
    "# Save the model (optional)\n",
    "# model.save('cifar10_model.h5')"
   ]
  },
  {
   "cell_type": "code",
   "execution_count": null,
   "metadata": {},
   "outputs": [],
   "source": [
    "# Evaluate the model\n",
    "test_loss, test_acc = model.evaluate(test_images, test_labels, verbose=2)\n",
    "\n",
    "print('\\nTest accuracy:', test_acc)"
   ]
  },
  {
   "cell_type": "code",
   "execution_count": 8,
   "metadata": {},
   "outputs": [],
   "source": [
    "import matplotlib.pyplot as plt"
   ]
  },
  {
   "cell_type": "code",
   "execution_count": null,
   "metadata": {},
   "outputs": [],
   "source": [
    "# Extracting accuracy and loss values\n",
    "acc = history.history['accuracy']\n",
    "val_acc = history.history['val_accuracy']\n",
    "loss = history.history['loss']\n",
    "val_loss = history.history['val_loss']\n",
    "epochs_range = range(epochs)\n",
    "\n",
    "# Plotting training and validation accuracy\n",
    "plt.figure(figsize=(12, 4))\n",
    "plt.subplot(1, 2, 1)\n",
    "plt.plot(epochs_range, acc, label='Training Accuracy')\n",
    "plt.plot(epochs_range, val_acc, label='Validation Accuracy')\n",
    "plt.legend(loc='lower right')\n",
    "plt.title('Training and Validation Accuracy')\n",
    "\n",
    "# Plotting training and validation loss\n",
    "plt.subplot(1, 2, 2)\n",
    "plt.plot(epochs_range, loss, label='Training Loss')\n",
    "plt.plot(epochs_range, val_loss, label='Validation Loss')\n",
    "plt.legend(loc='upper right')\n",
    "plt.title('Training and Validation Loss')\n",
    "plt.show()\n"
   ]
  },
  {
   "cell_type": "code",
   "execution_count": 10,
   "metadata": {},
   "outputs": [],
   "source": [
    "from tensorflow.keras.layers import Dropout"
   ]
  },
  {
   "cell_type": "code",
   "execution_count": 11,
   "metadata": {},
   "outputs": [],
   "source": [
    "# Adjusting the CNN model to include dropout\n",
    "model = Sequential()\n",
    "model.add(Conv2D(32, (3, 3), activation='relu', input_shape=(32, 32, 3)))\n",
    "model.add(MaxPooling2D((2, 2)))\n",
    "model.add(Dropout(0.15))  # Dropout layer after pooling\n",
    "\n",
    "model.add(Conv2D(64, (3, 3), activation='relu'))\n",
    "model.add(MaxPooling2D((2, 2)))\n",
    "model.add(Dropout(0.15))  # Another dropout layer\n",
    "\n",
    "model.add(Conv2D(64, (3, 3), activation='relu'))\n",
    "model.add(Flatten())\n",
    "model.add(Dense(64, activation='relu'))\n",
    "model.add(Dropout(0.25))  # Dropout layer before the final dense layer\n",
    "model.add(Dense(10, activation='softmax'))\n",
    "\n",
    "# Recompile the model\n",
    "model.compile(optimizer='adam',\n",
    "              loss='categorical_crossentropy',\n",
    "              metrics=['accuracy'])\n"
   ]
  },
  {
   "cell_type": "code",
   "execution_count": null,
   "metadata": {},
   "outputs": [],
   "source": [
    "# Retrain the model\n",
    "history = model.fit(train_images, train_labels, epochs=epochs, \n",
    "                    batch_size=batch_size, \n",
    "                    validation_split=0.2)"
   ]
  },
  {
   "cell_type": "code",
   "execution_count": null,
   "metadata": {},
   "outputs": [],
   "source": [
    "# Evaluate the model\n",
    "test_loss, test_acc = model.evaluate(test_images, test_labels, verbose=2)\n",
    "\n",
    "print('\\nTest accuracy:', test_acc)"
   ]
  },
  {
   "cell_type": "code",
   "execution_count": null,
   "metadata": {},
   "outputs": [],
   "source": [
    "# Extracting accuracy and loss values\n",
    "acc = history.history['accuracy']\n",
    "val_acc = history.history['val_accuracy']\n",
    "loss = history.history['loss']\n",
    "val_loss = history.history['val_loss']\n",
    "epochs_range = range(epochs)\n",
    "\n",
    "# Plotting training and validation accuracy\n",
    "plt.figure(figsize=(12, 4))\n",
    "plt.subplot(1, 2, 1)\n",
    "plt.plot(epochs_range, acc, label='Training Accuracy')\n",
    "plt.plot(epochs_range, val_acc, label='Validation Accuracy')\n",
    "plt.legend(loc='lower right')\n",
    "plt.title('Training and Validation Accuracy')\n",
    "\n",
    "# Plotting training and validation loss\n",
    "plt.subplot(1, 2, 2)\n",
    "plt.plot(epochs_range, loss, label='Training Loss')\n",
    "plt.plot(epochs_range, val_loss, label='Validation Loss')\n",
    "plt.legend(loc='upper right')\n",
    "plt.title('Training and Validation Loss')\n",
    "plt.show()\n"
   ]
  },
  {
   "cell_type": "code",
   "execution_count": null,
   "metadata": {},
   "outputs": [],
   "source": [
    "from sklearn.metrics import classification_report, confusion_matrix\n",
    "import numpy as np\n",
    "\n",
    "# Assuming that you have a model named `model` and a test set `test_images` and `test_labels`\n",
    "\n",
    "# Get predictions from the model\n",
    "predictions = model.predict(test_images)\n",
    "predicted_classes = np.argmax(predictions, axis=1)\n",
    "true_classes = np.argmax(test_labels, axis=1)\n",
    "\n",
    "# Compute confusion matrix\n",
    "conf_mtx = confusion_matrix(true_classes, predicted_classes)\n",
    "\n",
    "# Compute precision, recall, and F1 score\n",
    "class_report = classification_report(true_classes, predicted_classes)\n",
    "\n",
    "print(\"Confusion Matrix:\\n\", conf_mtx)\n",
    "print(\"\\nClassification Report:\\n\", class_report)\n"
   ]
  },
  {
   "cell_type": "code",
   "execution_count": 16,
   "metadata": {},
   "outputs": [],
   "source": [
    "import seaborn as sns"
   ]
  },
  {
   "cell_type": "code",
   "execution_count": null,
   "metadata": {},
   "outputs": [],
   "source": [
    "report_dict = classification_report(true_classes, predicted_classes, output_dict=True)\n",
    "\n",
    "# Exclude non-class keys such as 'accuracy' and 'macro avg', which do not have 'precision', 'recall', 'f1-score' subkeys\n",
    "class_labels = [key for key in report_dict.keys() if key not in ('accuracy', 'macro avg', 'weighted avg')]\n",
    "\n",
    "# Now use list comprehensions to get the metrics for each class label\n",
    "precision_scores = [report_dict[label]['precision'] for label in class_labels]\n",
    "recall_scores = [report_dict[label]['recall'] for label in class_labels]\n",
    "f1_scores = [report_dict[label]['f1-score'] for label in class_labels]\n",
    "\n",
    "# Plotting the graphs\n",
    "fig, ax = plt.subplots(3, 1, figsize=(10, 15), sharex=True)\n",
    "\n",
    "sns.barplot(x=class_labels, y=precision_scores, ax=ax[0], palette=\"viridis\")\n",
    "ax[0].set_title('Precision per Class')\n",
    "ax[0].set_ylabel('Precision')\n",
    "\n",
    "sns.barplot(x=class_labels, y=recall_scores, ax=ax[1], palette=\"viridis\")\n",
    "ax[1].set_title('Recall per Class')\n",
    "ax[1].set_ylabel('Recall')\n",
    "\n",
    "sns.barplot(x=class_labels, y=f1_scores, ax=ax[2], palette=\"viridis\")\n",
    "ax[2].set_title('F1 Score per Class')\n",
    "ax[2].set_ylabel('F1 Score')\n",
    "ax[2].set_xlabel('Classes')\n",
    "\n",
    "plt.xticks(rotation=90)\n",
    "plt.tight_layout()  # Adjust the layout\n",
    "plt.show()\n"
   ]
  }
 ],
 "metadata": {
  "kernelspec": {
   "display_name": "Python 3",
   "language": "python",
   "name": "python3"
  },
  "language_info": {
   "codemirror_mode": {
    "name": "ipython",
    "version": 3
   },
   "file_extension": ".py",
   "mimetype": "text/x-python",
   "name": "python",
   "nbconvert_exporter": "python",
   "pygments_lexer": "ipython3",
   "version": "3.11.5"
  }
 },
 "nbformat": 4,
 "nbformat_minor": 2
}
